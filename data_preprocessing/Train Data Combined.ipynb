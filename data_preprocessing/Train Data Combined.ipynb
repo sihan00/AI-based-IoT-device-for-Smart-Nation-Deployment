{
 "cells": [
  {
   "cell_type": "markdown",
   "metadata": {},
   "source": [
    "# Preparing training and validation dataset for MobileNet model training\n",
    "At this stage, all four classes have already been trimmed and split as .wav files into durations < 2s, and the short tracks manually verified to remove silent contents that arose from splitting algorithm. \n",
    "##### We extract audio features, normalise, and scale to produce 3x sets of audio data for training."
   ]
  },
  {
   "cell_type": "markdown",
   "metadata": {},
   "source": [
    "# Loading folder path and set up empty lists\n",
    "The folders contain .wav files of tracks < 2s duration (trimmed and split)"
   ]
  },
  {
   "cell_type": "code",
   "execution_count": 1,
   "metadata": {},
   "outputs": [],
   "source": [
    "path = \"C:/Users/Alicia/Desktop/new train data\""
   ]
  },
  {
   "cell_type": "code",
   "execution_count": 2,
   "metadata": {},
   "outputs": [],
   "source": [
    "fall_path = path+'/fall_splits'\n",
    "cough_path = path+'/cough_splits'\n",
    "shout_path = path+'/shout_splits'\n",
    "speech_path = path+'/speech_splits'"
   ]
  },
  {
   "cell_type": "code",
   "execution_count": 3,
   "metadata": {},
   "outputs": [],
   "source": [
    "import os\n",
    "\n",
    "import librosa, librosa.display\n",
    "import numpy as np\n",
    "\n",
    "import matplotlib.pyplot as plt"
   ]
  },
  {
   "cell_type": "code",
   "execution_count": 4,
   "metadata": {},
   "outputs": [],
   "source": [
    "fall_list=os.listdir(fall_path)\n",
    "cough_list=os.listdir(cough_path)\n",
    "shout_list=os.listdir(shout_path)\n",
    "speech_list=os.listdir(speech_path)"
   ]
  },
  {
   "cell_type": "code",
   "execution_count": 13,
   "metadata": {},
   "outputs": [],
   "source": [
    "fall_splits = []\n",
    "cough_splits = []\n",
    "shout_splits = []\n",
    "speech_splits = []"
   ]
  },
  {
   "cell_type": "code",
   "execution_count": 14,
   "metadata": {},
   "outputs": [],
   "source": [
    "fall_total = []\n",
    "cough_total = []\n",
    "shout_total = []\n",
    "speech_total = []"
   ]
  },
  {
   "cell_type": "markdown",
   "metadata": {},
   "source": [
    "# Taking a step back to check durations of audio datasets (as received, before data pre-processing)\n",
    "This was before splitting tracks to < 2s duration, a record for writing in my report"
   ]
  },
  {
   "cell_type": "code",
   "execution_count": 14,
   "metadata": {},
   "outputs": [],
   "source": [
    "fall_path = path+'/fall'\n",
    "cough_path = path+'/cough'\n",
    "shout_path = path+'/shout'\n",
    "speech_path = path+'/speech'"
   ]
  },
  {
   "cell_type": "code",
   "execution_count": 15,
   "metadata": {},
   "outputs": [],
   "source": [
    "fall_list=os.listdir(fall_path)\n",
    "cough_list=os.listdir(cough_path)\n",
    "shout_list=os.listdir(shout_path)\n",
    "speech_list=os.listdir(speech_path)"
   ]
  },
  {
   "cell_type": "code",
   "execution_count": 16,
   "metadata": {},
   "outputs": [
    {
     "name": "stdout",
     "output_type": "stream",
     "text": [
      "144 608.375170068027\n"
     ]
    }
   ],
   "source": [
    "total_fall_duration = 0\n",
    "i = 0\n",
    "\n",
    "for filename in fall_list: \n",
    "    y,sr = librosa.load(fall_path+'/'+filename, sr=44100)\n",
    "    time = librosa.get_duration(y, sr=44100)\n",
    "    \n",
    "    total_fall_duration = total_fall_duration + time\n",
    "    i = i+1\n",
    "    \n",
    "print(i, total_fall_duration)"
   ]
  },
  {
   "cell_type": "code",
   "execution_count": 17,
   "metadata": {},
   "outputs": [
    {
     "name": "stdout",
     "output_type": "stream",
     "text": [
      "136 793.6943083900222\n"
     ]
    }
   ],
   "source": [
    "total_cough_duration = 0\n",
    "i = 0 \n",
    "\n",
    "for filename in cough_list: \n",
    "    y,sr = librosa.load(cough_path+'/'+filename, sr=44100)\n",
    "    time = librosa.get_duration(y, sr=44100)\n",
    "    \n",
    "    total_cough_duration = total_cough_duration + time\n",
    "    i = i+1\n",
    "\n",
    "print(i, total_cough_duration)"
   ]
  },
  {
   "cell_type": "code",
   "execution_count": 18,
   "metadata": {},
   "outputs": [
    {
     "name": "stdout",
     "output_type": "stream",
     "text": [
      "358 1270.9626984126996\n"
     ]
    }
   ],
   "source": [
    "total_shout_duration = 0\n",
    "i = 0\n",
    "\n",
    "for filename in shout_list: \n",
    "    y,sr = librosa.load(shout_path+'/'+filename, sr=44100)\n",
    "    time = librosa.get_duration(y, sr=44100)\n",
    "    \n",
    "    total_shout_duration = total_shout_duration + time\n",
    "    i = i+1\n",
    "\n",
    "print(i, total_shout_duration)"
   ]
  },
  {
   "cell_type": "code",
   "execution_count": 19,
   "metadata": {},
   "outputs": [
    {
     "name": "stdout",
     "output_type": "stream",
     "text": [
      "53 3258.6935827664392\n"
     ]
    }
   ],
   "source": [
    "total_speech_duration = 0\n",
    "i=0\n",
    "\n",
    "for filename in speech_list: \n",
    "    y,sr = librosa.load(speech_path+'/'+filename, sr=44100)\n",
    "    time = librosa.get_duration(y, sr=44100)\n",
    "    \n",
    "    total_speech_duration = total_speech_duration + time\n",
    "    i=i+1\n",
    "\n",
    "print(i, total_speech_duration)"
   ]
  },
  {
   "cell_type": "markdown",
   "metadata": {},
   "source": [
    "# Check durations of audio dataset (split tracks)\n",
    "Date pre-processing is performed on this 1x set of data, to produce 3x sets of data, after audio feature extraction, normalisation and scaling."
   ]
  },
  {
   "cell_type": "code",
   "execution_count": 10,
   "metadata": {},
   "outputs": [
    {
     "name": "stdout",
     "output_type": "stream",
     "text": [
      "267 340.8245351473925\n"
     ]
    }
   ],
   "source": [
    "total_fall_duration = 0\n",
    "i = 0\n",
    "\n",
    "for filename in fall_list: \n",
    "    y,sr = librosa.load(fall_path+'/'+filename, sr=44100)\n",
    "    time = librosa.get_duration(y, sr=44100)\n",
    "    \n",
    "    total_fall_duration = total_fall_duration + time\n",
    "    i = i+1\n",
    "    \n",
    "print(i, total_fall_duration)"
   ]
  },
  {
   "cell_type": "code",
   "execution_count": 11,
   "metadata": {},
   "outputs": [
    {
     "name": "stdout",
     "output_type": "stream",
     "text": [
      "404 692.8095691609976\n"
     ]
    }
   ],
   "source": [
    "total_cough_duration = 0\n",
    "i = 0 \n",
    "\n",
    "for filename in cough_list: \n",
    "    y,sr = librosa.load(cough_path+'/'+filename, sr=44100)\n",
    "    time = librosa.get_duration(y, sr=44100)\n",
    "    \n",
    "    total_cough_duration = total_cough_duration + time\n",
    "    i = i+1\n",
    "\n",
    "print(i, total_cough_duration)"
   ]
  },
  {
   "cell_type": "code",
   "execution_count": 12,
   "metadata": {},
   "outputs": [
    {
     "name": "stdout",
     "output_type": "stream",
     "text": [
      "678 1051.719795918368\n"
     ]
    }
   ],
   "source": [
    "total_shout_duration = 0\n",
    "i = 0\n",
    "\n",
    "for filename in shout_list: \n",
    "    y,sr = librosa.load(shout_path+'/'+filename, sr=44100)\n",
    "    time = librosa.get_duration(y, sr=44100)\n",
    "    \n",
    "    total_shout_duration = total_shout_duration + time\n",
    "    i = i+1\n",
    "\n",
    "print(i, total_shout_duration)"
   ]
  },
  {
   "cell_type": "code",
   "execution_count": 13,
   "metadata": {},
   "outputs": [
    {
     "name": "stdout",
     "output_type": "stream",
     "text": [
      "1458 2893.258526077097\n"
     ]
    }
   ],
   "source": [
    "total_speech_duration = 0\n",
    "i=0\n",
    "\n",
    "for filename in speech_list: \n",
    "    y,sr = librosa.load(speech_path+'/'+filename, sr=44100)\n",
    "    time = librosa.get_duration(y, sr=44100)\n",
    "    \n",
    "    total_speech_duration = total_speech_duration + time\n",
    "    i=i+1\n",
    "\n",
    "print(i, total_speech_duration)"
   ]
  },
  {
   "cell_type": "markdown",
   "metadata": {},
   "source": [
    "# The code snippet below pads audio shorter than 2s to the full 2s duration. \n",
    "Note that short tracks have already been manually verified to remove silence content that arose from the splitting algorithm. At this stage, all loaded tracks are useful content."
   ]
  },
  {
   "cell_type": "raw",
   "metadata": {},
   "source": [
    "    y, sr = librosa.load(fall_path+'/'+filename, sr=SAMPLE_RATE)\n",
    "    \n",
    "    time = librosa.get_duration(y, sr=SAMPLE_RATE)\n",
    "\n",
    "    if y.shape[0] != 88200:\n",
    "        x = 88200 - y.shape[0]\n",
    "        if (x%2 == 0):\n",
    "            y_padded = np.pad(y, (int(x/2), int(x/2)), 'constant', constant_values=(0))\n",
    "        elif (x+1)%2 == 0: \n",
    "            y_padded = np.pad(y, (int((x+1)/2), int((x-1)/2)), 'constant', constant_values=(0))\n",
    "    else:\n",
    "        y_padded = y\n",
    "        "
   ]
  },
  {
   "cell_type": "markdown",
   "metadata": {},
   "source": [
    "# Audio pre-processing proceudres. \n",
    "## We pad shorter tracks to 2s, normalise, scale, and obtain its log mel spectrogram. \n",
    "## The process is repeated for all 4 classes of audio: fall, cough, shout, speech.\n",
    "##### a. The length of 2s audio of array, when sampled at 44100Hz, is 88200. The shorter track is padded to a length of 88200, with '0', while the original content is centralised.\n",
    "##### b. All audio is normalised by dividing by its |max|. \n",
    "##### c. All audio is scaled to cater to different volume recording of each audio class (account for differences that arise from volume recorded by microphone)\n",
    "##### d. 2 librosa functions are used for audio feature extraction step (feature.melspectrogram and amplitude_to_db)\n",
    "##### e. All data for each audio class is saved in a dictionary of lists."
   ]
  },
  {
   "cell_type": "markdown",
   "metadata": {},
   "source": [
    "# Fall"
   ]
  },
  {
   "cell_type": "code",
   "execution_count": 7,
   "metadata": {},
   "outputs": [
    {
     "name": "stdout",
     "output_type": "stream",
     "text": [
      "267\n"
     ]
    }
   ],
   "source": [
    "# from split samples (re-verified), sample + pad + scale + logspec\n",
    "\n",
    "i = 0\n",
    "SAMPLE_RATE = 44100\n",
    "\n",
    "for filename in fall_list: ##### CHANGE HERE #####\n",
    "\n",
    "    y, sr = librosa.load(fall_path+'/'+filename, sr=SAMPLE_RATE) ##### CHANGE HERE #####\n",
    "    # y, sr = librosa.load(filepath, sr=SAMPLE_RATE)\n",
    "    time = librosa.get_duration(y, sr=SAMPLE_RATE)\n",
    "\n",
    "    if y.shape[0] != 88200:\n",
    "        x = 88200 - y.shape[0]\n",
    "        if (x%2 == 0):\n",
    "            y_padded = np.pad(y, (int(x/2), int(x/2)), 'constant', constant_values=(0))\n",
    "        elif (x+1)%2 == 0: \n",
    "            y_padded = np.pad(y, (int((x+1)/2), int((x-1)/2)), 'constant', constant_values=(0))\n",
    "    else:\n",
    "        y_padded = y\n",
    "        \n",
    "    y_normalised = y_padded / (np.max(np.abs(y_padded)))\n",
    "    y_scaled1 = 0.5*y_normalised\n",
    "    y_scaled2 = 0.2*y_normalised\n",
    "\n",
    "    melspec = librosa.feature.melspectrogram(y_normalised, sr=sr, n_mels=128)\n",
    "    # Convert to log scale (dB). We'll use the peak power (max) as reference.\n",
    "    log_S = librosa.amplitude_to_db(melspec)\n",
    "    \n",
    "    melspec_scaled = librosa.feature.melspectrogram(y_scaled1, sr=sr, n_mels=128)\n",
    "    # Convert to log scale (dB). We'll use the peak power (max) as reference.\n",
    "    log_S_scaled1 = librosa.amplitude_to_db(melspec_scaled)\n",
    "    \n",
    "    melspec_scaled = librosa.feature.melspectrogram(y_scaled2, sr=sr, n_mels=128)\n",
    "    # Convert to log scale (dB). We'll use the peak power (max) as reference.\n",
    "    log_S_scaled2 = librosa.amplitude_to_db(melspec_scaled)\n",
    "\n",
    "    splits_dict = {}\n",
    "    splits_dict[\"filename_split\"] = filename\n",
    "    splits_dict[\"filepath_split\"] = fall_path+'/'+filename\n",
    "    splits_dict[\"time in split\"] = time\n",
    "    splits_dict[\"normalised\"] = y_normalised \n",
    "    splits_dict[\"scaled1\"] = y_scaled1 \n",
    "    splits_dict[\"scaled2\"] = y_scaled2 \n",
    "    splits_dict[\"log_S\"] = log_S \n",
    "    splits_dict[\"log_S_scaled1\"] = log_S_scaled1 \n",
    "    splits_dict[\"log_S_scaled2\"] = log_S_scaled2\n",
    "\n",
    "    fall_splits.append(splits_dict) ##### CHANGE HERE #####\n",
    "    i = i+1\n",
    "    \n",
    "    fall_total.append(log_S) ##### CHANGE HERE #####\n",
    "    fall_total.append(log_S_scaled1) ##### CHANGE HERE #####\n",
    "    fall_total.append(log_S_scaled2) ##### CHANGE HERE #####\n",
    "        \n",
    "print(i)\n",
    "fall_number = i ##### CHANGE HERE #####"
   ]
  },
  {
   "cell_type": "markdown",
   "metadata": {},
   "source": [
    "# Check on sample"
   ]
  },
  {
   "cell_type": "code",
   "execution_count": 9,
   "metadata": {},
   "outputs": [
    {
     "name": "stdout",
     "output_type": "stream",
     "text": [
      "267\n",
      "[[-19.55974489 -19.55974489 -19.55974489 ... -19.55974489 -19.55974489\n",
      "  -19.55974489]\n",
      " [-19.55974489 -19.55974489 -19.55974489 ... -12.6765449  -14.48669826\n",
      "  -15.97223876]\n",
      " [-19.55974489 -19.55974489 -19.55974489 ... -19.55974489 -19.55974489\n",
      "  -19.55974489]\n",
      " ...\n",
      " [-19.55974489 -19.55974489 -19.55974489 ... -19.55974489 -19.55974489\n",
      "  -19.55974489]\n",
      " [-19.55974489 -19.55974489 -19.55974489 ... -19.55974489 -19.55974489\n",
      "  -19.55974489]\n",
      " [-19.55974489 -19.55974489 -19.55974489 ... -19.55974489 -19.55974489\n",
      "  -19.55974489]] [[-31.60094472 -31.60094472 -31.60094472 ... -31.60094472 -31.60094472\n",
      "  -31.60094472]\n",
      " [-31.60094472 -31.60094472 -31.60094472 ... -24.71774473 -26.52789808\n",
      "  -28.01343859]\n",
      " [-31.60094472 -31.60094472 -31.60094472 ... -31.60094472 -31.60094472\n",
      "  -31.60094472]\n",
      " ...\n",
      " [-31.60094472 -31.60094472 -31.60094472 ... -31.60094472 -31.60094472\n",
      "  -31.60094472]\n",
      " [-31.60094472 -31.60094472 -31.60094472 ... -31.60094472 -31.60094472\n",
      "  -31.60094472]\n",
      " [-31.60094472 -31.60094472 -31.60094472 ... -31.60094472 -31.60094472\n",
      "  -31.60094472]] [[-47.51854374 -47.51854374 -47.51854374 ... -47.51854374 -47.51854374\n",
      "  -47.51854374]\n",
      " [-47.51854374 -47.51854374 -47.51854374 ... -40.63534488 -42.44549973\n",
      "  -43.93103977]\n",
      " [-47.51854374 -47.51854374 -47.51854374 ... -47.51854374 -47.51854374\n",
      "  -47.51854374]\n",
      " ...\n",
      " [-47.51854374 -47.51854374 -47.51854374 ... -47.51854374 -47.51854374\n",
      "  -47.51854374]\n",
      " [-47.51854374 -47.51854374 -47.51854374 ... -47.51854374 -47.51854374\n",
      "  -47.51854374]\n",
      " [-47.51854374 -47.51854374 -47.51854374 ... -47.51854374 -47.51854374\n",
      "  -47.51854374]]\n"
     ]
    }
   ],
   "source": [
    "print(fall_number)\n",
    "print(fall_splits[0]['log_S'], fall_splits[0]['log_S_scaled1'], fall_splits[0]['log_S_scaled2'])\n"
   ]
  },
  {
   "cell_type": "code",
   "execution_count": 10,
   "metadata": {},
   "outputs": [
    {
     "name": "stdout",
     "output_type": "stream",
     "text": [
      "[array([[-19.55974489, -19.55974489, -19.55974489, ..., -19.55974489,\n",
      "        -19.55974489, -19.55974489],\n",
      "       [-19.55974489, -19.55974489, -19.55974489, ..., -12.6765449 ,\n",
      "        -14.48669826, -15.97223876],\n",
      "       [-19.55974489, -19.55974489, -19.55974489, ..., -19.55974489,\n",
      "        -19.55974489, -19.55974489],\n",
      "       ...,\n",
      "       [-19.55974489, -19.55974489, -19.55974489, ..., -19.55974489,\n",
      "        -19.55974489, -19.55974489],\n",
      "       [-19.55974489, -19.55974489, -19.55974489, ..., -19.55974489,\n",
      "        -19.55974489, -19.55974489],\n",
      "       [-19.55974489, -19.55974489, -19.55974489, ..., -19.55974489,\n",
      "        -19.55974489, -19.55974489]]), array([[-31.60094472, -31.60094472, -31.60094472, ..., -31.60094472,\n",
      "        -31.60094472, -31.60094472],\n",
      "       [-31.60094472, -31.60094472, -31.60094472, ..., -24.71774473,\n",
      "        -26.52789808, -28.01343859],\n",
      "       [-31.60094472, -31.60094472, -31.60094472, ..., -31.60094472,\n",
      "        -31.60094472, -31.60094472],\n",
      "       ...,\n",
      "       [-31.60094472, -31.60094472, -31.60094472, ..., -31.60094472,\n",
      "        -31.60094472, -31.60094472],\n",
      "       [-31.60094472, -31.60094472, -31.60094472, ..., -31.60094472,\n",
      "        -31.60094472, -31.60094472],\n",
      "       [-31.60094472, -31.60094472, -31.60094472, ..., -31.60094472,\n",
      "        -31.60094472, -31.60094472]])]\n"
     ]
    }
   ],
   "source": [
    "print(fall_total[0:2])"
   ]
  },
  {
   "cell_type": "markdown",
   "metadata": {},
   "source": [
    "# Show total (3x dataset obtained)"
   ]
  },
  {
   "cell_type": "code",
   "execution_count": 11,
   "metadata": {},
   "outputs": [
    {
     "name": "stdout",
     "output_type": "stream",
     "text": [
      "801\n"
     ]
    }
   ],
   "source": [
    "i=0\n",
    "for row in fall_total:\n",
    "    i = i+1\n",
    "print(i)    \n",
    "\n",
    "fall_number_total = i"
   ]
  },
  {
   "cell_type": "markdown",
   "metadata": {},
   "source": [
    "# We may plot sample outputs to check that data has been accurately scaled"
   ]
  },
  {
   "cell_type": "code",
   "execution_count": 12,
   "metadata": {},
   "outputs": [
    {
     "name": "stdout",
     "output_type": "stream",
     "text": [
      "[0. 0. 0. ... 0. 0. 0.]\n",
      "[0. 0. 0. ... 0. 0. 0.]\n",
      "[0. 0. 0. ... 0. 0. 0.]\n",
      "[[-23.17653182 -23.17653182 -23.17653182 ... -23.17653182 -23.17653182\n",
      "  -23.17653182]\n",
      " [-23.17653182 -23.17653182 -23.17653182 ... -23.17653182 -23.17653182\n",
      "  -23.17653182]\n",
      " [-23.17653182 -23.17653182 -23.17653182 ... -23.17653182 -23.17653182\n",
      "  -23.17653182]\n",
      " ...\n",
      " [-23.17653182 -23.17653182 -23.17653182 ... -23.17653182 -23.17653182\n",
      "  -23.17653182]\n",
      " [-23.17653182 -23.17653182 -23.17653182 ... -23.17653182 -23.17653182\n",
      "  -23.17653182]\n",
      " [-23.17653182 -23.17653182 -23.17653182 ... -23.17653182 -23.17653182\n",
      "  -23.17653182]]\n",
      "[[-35.21773164 -35.21773164 -35.21773164 ... -35.21773164 -35.21773164\n",
      "  -35.21773164]\n",
      " [-35.21773164 -35.21773164 -35.21773164 ... -35.21773164 -35.21773164\n",
      "  -35.21773164]\n",
      " [-35.21773164 -35.21773164 -35.21773164 ... -35.21773164 -35.21773164\n",
      "  -35.21773164]\n",
      " ...\n",
      " [-35.21773164 -35.21773164 -35.21773164 ... -35.21773164 -35.21773164\n",
      "  -35.21773164]\n",
      " [-35.21773164 -35.21773164 -35.21773164 ... -35.21773164 -35.21773164\n",
      "  -35.21773164]\n",
      " [-35.21773164 -35.21773164 -35.21773164 ... -35.21773164 -35.21773164\n",
      "  -35.21773164]]\n",
      "[[-51.13533233 -51.13533233 -51.13533233 ... -51.13533233 -51.13533233\n",
      "  -51.13533233]\n",
      " [-51.13533233 -51.13533233 -51.13533233 ... -51.13533233 -51.13533233\n",
      "  -51.13533233]\n",
      " [-51.13533233 -51.13533233 -51.13533233 ... -51.13533233 -51.13533233\n",
      "  -51.13533233]\n",
      " ...\n",
      " [-51.13533233 -51.13533233 -51.13533233 ... -51.13533233 -51.13533233\n",
      "  -51.13533233]\n",
      " [-51.13533233 -51.13533233 -51.13533233 ... -51.13533233 -51.13533233\n",
      "  -51.13533233]\n",
      " [-51.13533233 -51.13533233 -51.13533233 ... -51.13533233 -51.13533233\n",
      "  -51.13533233]]\n"
     ]
    },
    {
     "data": {
      "image/png": "[encoded data removed]",
      "text/plain": [
       "<Figure size 864x288 with 1 Axes>"
      ]
     },
     "metadata": {
      "needs_background": "light"
     },
     "output_type": "display_data"
    },
    {
     "data": {
      "image/png": "[encoded data removed]",
      "text/plain": [
       "<Figure size 864x288 with 1 Axes>"
      ]
     },
     "metadata": {
      "needs_background": "light"
     },
     "output_type": "display_data"
    },
    {
     "data": {
      "image/png": "[encoded data removed]",
      "text/plain": [
       "<Figure size 864x288 with 1 Axes>"
      ]
     },
     "metadata": {
      "needs_background": "light"
     },
     "output_type": "display_data"
    },
    {
     "data": {
      "image/png": "[encoded data removed]",
      "text/plain": [
       "<Figure size 864x288 with 2 Axes>"
      ]
     },
     "metadata": {
      "needs_background": "light"
     },
     "output_type": "display_data"
    },
    {
     "data": {
      "image/png": "[encoded data removed]",
      "text/plain": [
       "<Figure size 864x288 with 2 Axes>"
      ]
     },
     "metadata": {
      "needs_background": "light"
     },
     "output_type": "display_data"
    },
    {
     "data": {
      "image/png": "[encoded data removed]",
      "text/plain": [
       "<Figure size 864x288 with 2 Axes>"
      ]
     },
     "metadata": {
      "needs_background": "light"
     },
     "output_type": "display_data"
    }
   ],
   "source": [
    "filename = fall_splits[29]['filename_split']\n",
    "y_normalised = fall_splits[29]['normalised']\n",
    "y_scaled1 = fall_splits[29]['scaled1']\n",
    "y_scaled2 = fall_splits[29]['scaled2']\n",
    "log_S = fall_splits[29]['log_S']\n",
    "log_S_scaled1 = fall_splits[29]['log_S_scaled1']\n",
    "log_S_scaled2 = fall_splits[29]['log_S_scaled2']\n",
    "\n",
    "print(y_normalised)\n",
    "print(y_scaled1)\n",
    "print(y_scaled2)\n",
    "print(log_S)\n",
    "print(log_S_scaled1)\n",
    "print(log_S_scaled2)\n",
    "\n",
    "\n",
    "# Display normalised\n",
    "plt.figure(figsize=(12,4))\n",
    "librosa.display.waveplot(y_normalised, sr=SAMPLE_RATE)\n",
    "plt.title('plot' +filename)\n",
    "\n",
    "# Display scaled 1\n",
    "plt.figure(figsize=(12,4))\n",
    "librosa.display.waveplot(y_scaled1, sr=SAMPLE_RATE)\n",
    "plt.title('plot'+filename)\n",
    "\n",
    "# Display scaled 2\n",
    "plt.figure(figsize=(12,4))\n",
    "librosa.display.waveplot(y_scaled2, sr=SAMPLE_RATE)\n",
    "plt.title('plot'+filename)\n",
    "\n",
    "# Display the log mel spectrogram\n",
    "plt.figure(figsize=(12,4))\n",
    "librosa.display.specshow(log_S, sr=sr, x_axis='time', y_axis='mel')\n",
    "plt.title('Log mel spectrogram')\n",
    "plt.colorbar(format='%+02.0f dB')\n",
    "plt.tight_layout()\n",
    "\n",
    "# Display the log mel spectrogram SCALED 1\n",
    "plt.figure(figsize=(12,4))\n",
    "librosa.display.specshow(log_S_scaled1, sr=sr, x_axis='time', y_axis='mel')\n",
    "plt.title('Log mel spectrogram')\n",
    "plt.colorbar(format='%+02.0f dB')\n",
    "plt.tight_layout()\n",
    "\n",
    "# Display the log mel spectrogram SCALED 2\n",
    "plt.figure(figsize=(12,4))\n",
    "librosa.display.specshow(log_S_scaled2, sr=sr, x_axis='time', y_axis='mel')\n",
    "plt.title('Log mel spectrogram')\n",
    "plt.colorbar(format='%+02.0f dB')\n",
    "plt.tight_layout()"
   ]
  },
  {
   "cell_type": "markdown",
   "metadata": {},
   "source": [
    "# Cough"
   ]
  },
  {
   "cell_type": "code",
   "execution_count": 13,
   "metadata": {},
   "outputs": [
    {
     "name": "stdout",
     "output_type": "stream",
     "text": [
      "404\n"
     ]
    }
   ],
   "source": [
    "# from split samples (re-verified), sample + pad + scale + logspec\n",
    "\n",
    "i = 0\n",
    "SAMPLE_RATE = 44100\n",
    "\n",
    "for filename in cough_list: ##### CHANGE HERE #####\n",
    "\n",
    "    y, sr = librosa.load(cough_path+'/'+filename, sr=SAMPLE_RATE) ##### CHANGE HERE #####\n",
    "    # y, sr = librosa.load(filepath, sr=SAMPLE_RATE)\n",
    "    time = librosa.get_duration(y, sr=SAMPLE_RATE)\n",
    "\n",
    "    if y.shape[0] != 88200:\n",
    "        x = 88200 - y.shape[0]\n",
    "        if (x%2 == 0):\n",
    "            y_padded = np.pad(y, (int(x/2), int(x/2)), 'constant', constant_values=(0))\n",
    "        elif (x+1)%2 == 0: \n",
    "            y_padded = np.pad(y, (int((x+1)/2), int((x-1)/2)), 'constant', constant_values=(0))\n",
    "    else:\n",
    "        y_padded = y\n",
    "        \n",
    "    y_normalised = y_padded / (np.max(np.abs(y_padded)))\n",
    "    y_scaled1 = 0.5*y_normalised\n",
    "    y_scaled2 = 0.2*y_normalised\n",
    "\n",
    "    melspec = librosa.feature.melspectrogram(y_normalised, sr=sr, n_mels=128)\n",
    "    # Convert to log scale (dB). We'll use the peak power (max) as reference.\n",
    "    log_S = librosa.amplitude_to_db(melspec)\n",
    "    \n",
    "    melspec_scaled = librosa.feature.melspectrogram(y_scaled1, sr=sr, n_mels=128)\n",
    "    # Convert to log scale (dB). We'll use the peak power (max) as reference.\n",
    "    log_S_scaled1 = librosa.amplitude_to_db(melspec_scaled)\n",
    "\n",
    "    melspec_scaled = librosa.feature.melspectrogram(y_scaled2, sr=sr, n_mels=128)\n",
    "    # Convert to log scale (dB). We'll use the peak power (max) as reference.\n",
    "    log_S_scaled2 = librosa.amplitude_to_db(melspec_scaled)\n",
    "    \n",
    "    splits_dict = {}\n",
    "    splits_dict[\"filename_split\"] = filename\n",
    "    splits_dict[\"filepath_split\"] = fall_path+'/'+filename\n",
    "    splits_dict[\"time in split\"] = time\n",
    "    splits_dict[\"normalised\"] = y_normalised \n",
    "    splits_dict[\"scaled1\"] = y_scaled1 \n",
    "    splits_dict[\"scaled2\"] = y_scaled2 \n",
    "    splits_dict[\"log_S\"] = log_S \n",
    "    splits_dict[\"log_S_scaled1\"] = log_S_scaled1 \n",
    "    splits_dict[\"log_S_scaled2\"] = log_S_scaled2 \n",
    "\n",
    "    cough_splits.append(splits_dict) ##### CHANGE HERE #####\n",
    "    i = i+1\n",
    "    \n",
    "    cough_total.append(log_S) ##### CHANGE HERE #####\n",
    "    cough_total.append(log_S_scaled1) ##### CHANGE HERE #####\n",
    "    cough_total.append(log_S_scaled2) ##### CHANGE HERE #####\n",
    "        \n",
    "print(i)\n",
    "cough_number = i ##### CHANGE HERE #####"
   ]
  },
  {
   "cell_type": "markdown",
   "metadata": {},
   "source": [
    "# Check on sample"
   ]
  },
  {
   "cell_type": "code",
   "execution_count": 14,
   "metadata": {},
   "outputs": [
    {
     "name": "stdout",
     "output_type": "stream",
     "text": [
      "404\n",
      "[[-38.22559936 -38.22559936 -38.22559936 ... -38.22559936 -38.22559936\n",
      "  -38.22559936]\n",
      " [-38.22559936 -38.22559936 -38.22559936 ... -38.22559936 -38.22559936\n",
      "  -38.22559936]\n",
      " [-38.22559936 -38.22559936 -38.22559936 ... -38.22559936 -38.22559936\n",
      "  -38.22559936]\n",
      " ...\n",
      " [-38.22559936 -38.22559936 -38.22559936 ... -38.22559936 -38.22559936\n",
      "  -38.22559936]\n",
      " [-38.22559936 -38.22559936 -38.22559936 ... -38.22559936 -38.22559936\n",
      "  -38.22559936]\n",
      " [-38.22559936 -38.22559936 -38.22559936 ... -38.22559936 -38.22559936\n",
      "  -38.22559936]] [[-50.26679919 -50.26679919 -50.26679919 ... -50.26679919 -50.26679919\n",
      "  -50.26679919]\n",
      " [-50.26679919 -50.26679919 -50.26679919 ... -50.26679919 -50.26679919\n",
      "  -50.26679919]\n",
      " [-50.26679919 -50.26679919 -50.26679919 ... -50.26679919 -50.26679919\n",
      "  -50.26679919]\n",
      " ...\n",
      " [-50.26679919 -50.26679919 -50.26679919 ... -50.26679919 -50.26679919\n",
      "  -50.26679919]\n",
      " [-50.26679919 -50.26679919 -50.26679919 ... -50.26679919 -50.26679919\n",
      "  -50.26679919]\n",
      " [-50.26679919 -50.26679919 -50.26679919 ... -50.26679919 -50.26679919\n",
      "  -50.26679919]] [[-66.18439862 -66.18439862 -66.18439862 ... -66.18439862 -66.18439862\n",
      "  -66.18439862]\n",
      " [-66.18439862 -66.18439862 -66.18439862 ... -66.18439862 -66.18439862\n",
      "  -66.18439862]\n",
      " [-66.18439862 -66.18439862 -66.18439862 ... -66.18439862 -66.18439862\n",
      "  -66.18439862]\n",
      " ...\n",
      " [-66.18439862 -66.18439862 -66.18439862 ... -66.18439862 -66.18439862\n",
      "  -66.18439862]\n",
      " [-66.18439862 -66.18439862 -66.18439862 ... -66.18439862 -66.18439862\n",
      "  -66.18439862]\n",
      " [-66.18439862 -66.18439862 -66.18439862 ... -66.18439862 -66.18439862\n",
      "  -66.18439862]]\n"
     ]
    }
   ],
   "source": [
    "print(cough_number)\n",
    "print(cough_splits[0]['log_S'], cough_splits[0]['log_S_scaled1'], cough_splits[0]['log_S_scaled2'])\n"
   ]
  },
  {
   "cell_type": "code",
   "execution_count": 15,
   "metadata": {},
   "outputs": [
    {
     "name": "stdout",
     "output_type": "stream",
     "text": [
      "[array([[-38.22559936, -38.22559936, -38.22559936, ..., -38.22559936,\n",
      "        -38.22559936, -38.22559936],\n",
      "       [-38.22559936, -38.22559936, -38.22559936, ..., -38.22559936,\n",
      "        -38.22559936, -38.22559936],\n",
      "       [-38.22559936, -38.22559936, -38.22559936, ..., -38.22559936,\n",
      "        -38.22559936, -38.22559936],\n",
      "       ...,\n",
      "       [-38.22559936, -38.22559936, -38.22559936, ..., -38.22559936,\n",
      "        -38.22559936, -38.22559936],\n",
      "       [-38.22559936, -38.22559936, -38.22559936, ..., -38.22559936,\n",
      "        -38.22559936, -38.22559936],\n",
      "       [-38.22559936, -38.22559936, -38.22559936, ..., -38.22559936,\n",
      "        -38.22559936, -38.22559936]]), array([[-50.26679919, -50.26679919, -50.26679919, ..., -50.26679919,\n",
      "        -50.26679919, -50.26679919],\n",
      "       [-50.26679919, -50.26679919, -50.26679919, ..., -50.26679919,\n",
      "        -50.26679919, -50.26679919],\n",
      "       [-50.26679919, -50.26679919, -50.26679919, ..., -50.26679919,\n",
      "        -50.26679919, -50.26679919],\n",
      "       ...,\n",
      "       [-50.26679919, -50.26679919, -50.26679919, ..., -50.26679919,\n",
      "        -50.26679919, -50.26679919],\n",
      "       [-50.26679919, -50.26679919, -50.26679919, ..., -50.26679919,\n",
      "        -50.26679919, -50.26679919],\n",
      "       [-50.26679919, -50.26679919, -50.26679919, ..., -50.26679919,\n",
      "        -50.26679919, -50.26679919]])]\n"
     ]
    }
   ],
   "source": [
    "print(cough_total[0:2])"
   ]
  },
  {
   "cell_type": "markdown",
   "metadata": {},
   "source": [
    "# Show total (3x dataset obtained)"
   ]
  },
  {
   "cell_type": "code",
   "execution_count": 16,
   "metadata": {},
   "outputs": [
    {
     "name": "stdout",
     "output_type": "stream",
     "text": [
      "1212\n"
     ]
    }
   ],
   "source": [
    "i=0\n",
    "for row in cough_total:\n",
    "    i = i+1\n",
    "print(i)    \n",
    "\n",
    "cough_number_total = i"
   ]
  },
  {
   "cell_type": "markdown",
   "metadata": {},
   "source": [
    "# Shout"
   ]
  },
  {
   "cell_type": "code",
   "execution_count": 17,
   "metadata": {},
   "outputs": [
    {
     "name": "stdout",
     "output_type": "stream",
     "text": [
      "678\n"
     ]
    }
   ],
   "source": [
    "# from split samples (re-verified), sample + pad + scale + logspec\n",
    "\n",
    "i = 0\n",
    "SAMPLE_RATE = 44100\n",
    "\n",
    "for filename in shout_list: ##### CHANGE HERE #####\n",
    "\n",
    "    y, sr = librosa.load(shout_path+'/'+filename, sr=SAMPLE_RATE) ##### CHANGE HERE #####\n",
    "    # y, sr = librosa.load(filepath, sr=SAMPLE_RATE)\n",
    "    time = librosa.get_duration(y, sr=SAMPLE_RATE)\n",
    "\n",
    "    if y.shape[0] != 88200:\n",
    "        x = 88200 - y.shape[0]\n",
    "        if (x%2 == 0):\n",
    "            y_padded = np.pad(y, (int(x/2), int(x/2)), 'constant', constant_values=(0))\n",
    "        elif (x+1)%2 == 0: \n",
    "            y_padded = np.pad(y, (int((x+1)/2), int((x-1)/2)), 'constant', constant_values=(0))\n",
    "    else:\n",
    "        y_padded = y\n",
    "        \n",
    "    y_normalised = y_padded /(np.max(np.abs(y_padded)))    \n",
    "    y_scaled1 = 0.5*y_normalised\n",
    "    y_scaled2 = 0.2*y_normalised\n",
    "\n",
    "    melspec = librosa.feature.melspectrogram(y_normalised, sr=sr, n_mels=128)\n",
    "    # Convert to log scale (dB). We'll use the peak power (max) as reference.\n",
    "    log_S = librosa.amplitude_to_db(melspec)\n",
    "    \n",
    "    melspec_scaled = librosa.feature.melspectrogram(y_scaled1, sr=sr, n_mels=128)\n",
    "    # Convert to log scale (dB). We'll use the peak power (max) as reference.\n",
    "    log_S_scaled1 = librosa.amplitude_to_db(melspec_scaled)\n",
    "    \n",
    "    melspec_scaled = librosa.feature.melspectrogram(y_scaled2, sr=sr, n_mels=128)\n",
    "    # Convert to log scale (dB). We'll use the peak power (max) as reference.\n",
    "    log_S_scaled2 = librosa.amplitude_to_db(melspec_scaled)\n",
    "\n",
    "    splits_dict = {}\n",
    "    splits_dict[\"filename_split\"] = filename\n",
    "    splits_dict[\"filepath_split\"] = fall_path+'/'+filename\n",
    "    splits_dict[\"time in split\"] = time\n",
    "    splits_dict[\"normalised\"] = y \n",
    "    splits_dict[\"scaled1\"] = y_scaled1 \n",
    "    splits_dict[\"scaled2\"] = y_scaled2 \n",
    "    splits_dict[\"log_S\"] = log_S \n",
    "    splits_dict[\"log_S_scaled1\"] = log_S_scaled1 \n",
    "    splits_dict[\"log_S_scaled2\"] = log_S_scaled2 \n",
    "\n",
    "    shout_splits.append(splits_dict) ##### CHANGE HERE #####\n",
    "    i = i+1\n",
    "    \n",
    "    shout_total.append(log_S) ##### CHANGE HERE #####\n",
    "    shout_total.append(log_S_scaled1) ##### CHANGE HERE #####\n",
    "    shout_total.append(log_S_scaled2) ##### CHANGE HERE #####\n",
    "        \n",
    "print(i)\n",
    "shout_number = i ##### CHANGE HERE #####"
   ]
  },
  {
   "cell_type": "markdown",
   "metadata": {},
   "source": [
    "# Check on sample"
   ]
  },
  {
   "cell_type": "code",
   "execution_count": 18,
   "metadata": {},
   "outputs": [
    {
     "name": "stdout",
     "output_type": "stream",
     "text": [
      "678\n",
      "[[-7.93348827 -7.93348827 -7.93348827 ... -7.93348827 -7.93348827\n",
      "  -1.74303906]\n",
      " [-7.93348827 -7.93348827 -7.93348827 ... -7.93348827 -7.93348827\n",
      "  -0.30495955]\n",
      " [-7.93348827 -7.93348827 -7.93348827 ... -7.93348827 -7.93348827\n",
      "  -1.04825502]\n",
      " ...\n",
      " [-7.93348827 -7.93348827 -7.93348827 ... -7.93348827 -7.93348827\n",
      "  -7.93348827]\n",
      " [-7.93348827 -7.93348827 -7.93348827 ... -7.93348827 -7.93348827\n",
      "  -7.93348827]\n",
      " [-7.93348827 -7.93348827 -7.93348827 ... -7.93348827 -7.93348827\n",
      "  -7.93348827]] [[-19.9746881  -19.9746881  -19.9746881  ... -19.9746881  -19.9746881\n",
      "  -13.78423889]\n",
      " [-19.9746881  -19.9746881  -19.9746881  ... -19.9746881  -19.9746881\n",
      "  -12.34615938]\n",
      " [-19.9746881  -19.9746881  -19.9746881  ... -19.9746881  -19.9746881\n",
      "  -13.08945485]\n",
      " ...\n",
      " [-19.9746881  -19.9746881  -19.9746881  ... -19.9746881  -19.9746881\n",
      "  -19.9746881 ]\n",
      " [-19.9746881  -19.9746881  -19.9746881  ... -19.9746881  -19.9746881\n",
      "  -19.9746881 ]\n",
      " [-19.9746881  -19.9746881  -19.9746881  ... -19.9746881  -19.9746881\n",
      "  -19.9746881 ]] [[-35.89228895 -35.89228895 -35.89228895 ... -35.89228895 -35.89228895\n",
      "  -29.70184145]\n",
      " [-35.89228895 -35.89228895 -35.89228895 ... -35.89228895 -35.89228895\n",
      "  -28.26376076]\n",
      " [-35.89228895 -35.89228895 -35.89228895 ... -35.89228895 -35.89228895\n",
      "  -29.00705519]\n",
      " ...\n",
      " [-35.89228895 -35.89228895 -35.89228895 ... -35.89228895 -35.89228895\n",
      "  -35.89228895]\n",
      " [-35.89228895 -35.89228895 -35.89228895 ... -35.89228895 -35.89228895\n",
      "  -35.89228895]\n",
      " [-35.89228895 -35.89228895 -35.89228895 ... -35.89228895 -35.89228895\n",
      "  -35.89228895]]\n"
     ]
    }
   ],
   "source": [
    "print(shout_number)\n",
    "print(shout_splits[0]['log_S'],shout_splits[0]['log_S_scaled1'],shout_splits[0]['log_S_scaled2'])\n"
   ]
  },
  {
   "cell_type": "code",
   "execution_count": 19,
   "metadata": {},
   "outputs": [
    {
     "name": "stdout",
     "output_type": "stream",
     "text": [
      "[array([[-7.93348827, -7.93348827, -7.93348827, ..., -7.93348827,\n",
      "        -7.93348827, -1.74303906],\n",
      "       [-7.93348827, -7.93348827, -7.93348827, ..., -7.93348827,\n",
      "        -7.93348827, -0.30495955],\n",
      "       [-7.93348827, -7.93348827, -7.93348827, ..., -7.93348827,\n",
      "        -7.93348827, -1.04825502],\n",
      "       ...,\n",
      "       [-7.93348827, -7.93348827, -7.93348827, ..., -7.93348827,\n",
      "        -7.93348827, -7.93348827],\n",
      "       [-7.93348827, -7.93348827, -7.93348827, ..., -7.93348827,\n",
      "        -7.93348827, -7.93348827],\n",
      "       [-7.93348827, -7.93348827, -7.93348827, ..., -7.93348827,\n",
      "        -7.93348827, -7.93348827]]), array([[-19.9746881 , -19.9746881 , -19.9746881 , ..., -19.9746881 ,\n",
      "        -19.9746881 , -13.78423889],\n",
      "       [-19.9746881 , -19.9746881 , -19.9746881 , ..., -19.9746881 ,\n",
      "        -19.9746881 , -12.34615938],\n",
      "       [-19.9746881 , -19.9746881 , -19.9746881 , ..., -19.9746881 ,\n",
      "        -19.9746881 , -13.08945485],\n",
      "       ...,\n",
      "       [-19.9746881 , -19.9746881 , -19.9746881 , ..., -19.9746881 ,\n",
      "        -19.9746881 , -19.9746881 ],\n",
      "       [-19.9746881 , -19.9746881 , -19.9746881 , ..., -19.9746881 ,\n",
      "        -19.9746881 , -19.9746881 ],\n",
      "       [-19.9746881 , -19.9746881 , -19.9746881 , ..., -19.9746881 ,\n",
      "        -19.9746881 , -19.9746881 ]])]\n"
     ]
    }
   ],
   "source": [
    "print(shout_total[0:2])"
   ]
  },
  {
   "cell_type": "markdown",
   "metadata": {},
   "source": [
    "# Show total (3x dataset obtained)"
   ]
  },
  {
   "cell_type": "code",
   "execution_count": 20,
   "metadata": {},
   "outputs": [
    {
     "name": "stdout",
     "output_type": "stream",
     "text": [
      "2034\n"
     ]
    }
   ],
   "source": [
    "i=0\n",
    "for row in shout_total:\n",
    "    i = i+1\n",
    "print(i)    \n",
    "\n",
    "shout_number_total = i"
   ]
  },
  {
   "cell_type": "markdown",
   "metadata": {},
   "source": [
    "# Speech"
   ]
  },
  {
   "cell_type": "code",
   "execution_count": 21,
   "metadata": {},
   "outputs": [
    {
     "name": "stdout",
     "output_type": "stream",
     "text": [
      "1458\n"
     ]
    }
   ],
   "source": [
    "# from split samples (re-verified), sample + pad + scale + logspec\n",
    "\n",
    "i = 0\n",
    "SAMPLE_RATE = 44100\n",
    "\n",
    "for filename in speech_list: ##### CHANGE HERE #####\n",
    "\n",
    "    y, sr = librosa.load(speech_path+'/'+filename, sr=SAMPLE_RATE) ##### CHANGE HERE #####\n",
    "    # y, sr = librosa.load(filepath, sr=SAMPLE_RATE)\n",
    "    time = librosa.get_duration(y, sr=SAMPLE_RATE)\n",
    "\n",
    "    if y.shape[0] != 88200:\n",
    "        x = 88200 - y.shape[0]\n",
    "        if (x%2 == 0):\n",
    "            y_padded = np.pad(y, (int(x/2), int(x/2)), 'constant', constant_values=(0))\n",
    "        elif (x+1)%2 == 0: \n",
    "            y_padded = np.pad(y, (int((x+1)/2), int((x-1)/2)), 'constant', constant_values=(0))\n",
    "    else:\n",
    "        y_padded = y\n",
    "    \n",
    "    y_normalised = y_padded / (np.max(np.abs(y_padded)))\n",
    "    y_scaled1 = 0.5*y_normalised\n",
    "    y_scaled2 = 0.2*y_normalised\n",
    "\n",
    "    melspec = librosa.feature.melspectrogram(y_normalised, sr=sr, n_mels=128)\n",
    "    # Convert to log scale (dB). We'll use the peak power (max) as reference.\n",
    "    log_S = librosa.amplitude_to_db(melspec)\n",
    "    \n",
    "    melspec_scaled = librosa.feature.melspectrogram(y_scaled1, sr=sr, n_mels=128)\n",
    "    # Convert to log scale (dB). We'll use the peak power (max) as reference.\n",
    "    log_S_scaled1 = librosa.amplitude_to_db(melspec_scaled)\n",
    "\n",
    "    melspec_scaled = librosa.feature.melspectrogram(y_scaled2, sr=sr, n_mels=128)\n",
    "    # Convert to log scale (dB). We'll use the peak power (max) as reference.\n",
    "    log_S_scaled2 = librosa.amplitude_to_db(melspec_scaled)\n",
    "    \n",
    "    splits_dict = {}\n",
    "    splits_dict[\"filename_split\"] = filename\n",
    "    splits_dict[\"filepath_split\"] = fall_path+'/'+filename\n",
    "    splits_dict[\"time in split\"] = time\n",
    "    splits_dict[\"normalised\"] = y \n",
    "    splits_dict[\"scaled1\"] = y_scaled1 \n",
    "    splits_dict[\"scaled2\"] = y_scaled2 \n",
    "    splits_dict[\"log_S\"] = log_S \n",
    "    splits_dict[\"log_S_scaled1\"] = log_S_scaled1 \n",
    "    splits_dict[\"log_S_scaled2\"] = log_S_scaled2 \n",
    "\n",
    "    \n",
    "    speech_splits.append(splits_dict) ##### CHANGE HERE #####\n",
    "    i = i+1\n",
    "    \n",
    "    speech_total.append(log_S) ##### CHANGE HERE #####\n",
    "    speech_total.append(log_S_scaled1) ##### CHANGE HERE #####\n",
    "    speech_total.append(log_S_scaled2) ##### CHANGE HERE #####\n",
    "        \n",
    "print(i)\n",
    "speech_number = i ##### CHANGE HERE #####"
   ]
  },
  {
   "cell_type": "markdown",
   "metadata": {},
   "source": [
    "# Check on sample"
   ]
  },
  {
   "cell_type": "code",
   "execution_count": 22,
   "metadata": {},
   "outputs": [
    {
     "name": "stdout",
     "output_type": "stream",
     "text": [
      "1458\n",
      "[[-23.16741234 -23.16741234 -23.16741234 ... -23.16741234 -23.16741234\n",
      "  -23.16741234]\n",
      " [-23.16741234 -23.16741234 -23.16741234 ... -23.16741234 -23.16741234\n",
      "  -23.16741234]\n",
      " [-17.54503829 -12.30571719 -13.69853532 ... -23.16741234 -23.16741234\n",
      "  -23.16741234]\n",
      " ...\n",
      " [-23.16741234 -23.16741234 -23.16741234 ... -23.16741234 -23.16741234\n",
      "  -23.16741234]\n",
      " [-23.16741234 -23.16741234 -23.16741234 ... -23.16741234 -23.16741234\n",
      "  -23.16741234]\n",
      " [-23.16741234 -23.16741234 -23.16741234 ... -23.16741234 -23.16741234\n",
      "  -23.16741234]] [[-35.20861217 -35.20861217 -35.20861217 ... -35.20861217 -35.20861217\n",
      "  -35.20861217]\n",
      " [-35.20861217 -35.20861217 -35.20861217 ... -35.20861217 -35.20861217\n",
      "  -35.20861217]\n",
      " [-29.58623812 -24.34691702 -25.73973515 ... -35.20861217 -35.20861217\n",
      "  -35.20861217]\n",
      " ...\n",
      " [-35.20861217 -35.20861217 -35.20861217 ... -35.20861217 -35.20861217\n",
      "  -35.20861217]\n",
      " [-35.20861217 -35.20861217 -35.20861217 ... -35.20861217 -35.20861217\n",
      "  -35.20861217]\n",
      " [-35.20861217 -35.20861217 -35.20861217 ... -35.20861217 -35.20861217\n",
      "  -35.20861217]] [[-51.12621333 -51.12621333 -51.12621333 ... -51.12621333 -51.12621333\n",
      "  -51.12621333]\n",
      " [-51.12621333 -51.12621333 -51.12621333 ... -51.12621333 -51.12621333\n",
      "  -51.12621333]\n",
      " [-45.50383791 -40.26451801 -41.65733558 ... -51.12621333 -51.12621333\n",
      "  -51.12621333]\n",
      " ...\n",
      " [-51.12621333 -51.12621333 -51.12621333 ... -51.12621333 -51.12621333\n",
      "  -51.12621333]\n",
      " [-51.12621333 -51.12621333 -51.12621333 ... -51.12621333 -51.12621333\n",
      "  -51.12621333]\n",
      " [-51.12621333 -51.12621333 -51.12621333 ... -51.12621333 -51.12621333\n",
      "  -51.12621333]]\n"
     ]
    }
   ],
   "source": [
    "print(speech_number)\n",
    "print(speech_splits[0]['log_S'], speech_splits[0]['log_S_scaled1'], speech_splits[0]['log_S_scaled2'])\n"
   ]
  },
  {
   "cell_type": "code",
   "execution_count": 23,
   "metadata": {},
   "outputs": [
    {
     "name": "stdout",
     "output_type": "stream",
     "text": [
      "[array([[-23.16741234, -23.16741234, -23.16741234, ..., -23.16741234,\n",
      "        -23.16741234, -23.16741234],\n",
      "       [-23.16741234, -23.16741234, -23.16741234, ..., -23.16741234,\n",
      "        -23.16741234, -23.16741234],\n",
      "       [-17.54503829, -12.30571719, -13.69853532, ..., -23.16741234,\n",
      "        -23.16741234, -23.16741234],\n",
      "       ...,\n",
      "       [-23.16741234, -23.16741234, -23.16741234, ..., -23.16741234,\n",
      "        -23.16741234, -23.16741234],\n",
      "       [-23.16741234, -23.16741234, -23.16741234, ..., -23.16741234,\n",
      "        -23.16741234, -23.16741234],\n",
      "       [-23.16741234, -23.16741234, -23.16741234, ..., -23.16741234,\n",
      "        -23.16741234, -23.16741234]]), array([[-35.20861217, -35.20861217, -35.20861217, ..., -35.20861217,\n",
      "        -35.20861217, -35.20861217],\n",
      "       [-35.20861217, -35.20861217, -35.20861217, ..., -35.20861217,\n",
      "        -35.20861217, -35.20861217],\n",
      "       [-29.58623812, -24.34691702, -25.73973515, ..., -35.20861217,\n",
      "        -35.20861217, -35.20861217],\n",
      "       ...,\n",
      "       [-35.20861217, -35.20861217, -35.20861217, ..., -35.20861217,\n",
      "        -35.20861217, -35.20861217],\n",
      "       [-35.20861217, -35.20861217, -35.20861217, ..., -35.20861217,\n",
      "        -35.20861217, -35.20861217],\n",
      "       [-35.20861217, -35.20861217, -35.20861217, ..., -35.20861217,\n",
      "        -35.20861217, -35.20861217]])]\n"
     ]
    }
   ],
   "source": [
    "print(speech_total[0:2])"
   ]
  },
  {
   "cell_type": "markdown",
   "metadata": {},
   "source": [
    "# Show total (3x dataset obtained)"
   ]
  },
  {
   "cell_type": "code",
   "execution_count": 24,
   "metadata": {},
   "outputs": [
    {
     "name": "stdout",
     "output_type": "stream",
     "text": [
      "4374\n"
     ]
    }
   ],
   "source": [
    "i=0\n",
    "for row in speech_total:\n",
    "    i = i+1\n",
    "print(i)    \n",
    "speech_number_total = i"
   ]
  },
  {
   "cell_type": "markdown",
   "metadata": {},
   "source": [
    "# Save as 80% train and 20% test data\n",
    "Split manually by setting indexes"
   ]
  },
  {
   "cell_type": "code",
   "execution_count": 25,
   "metadata": {},
   "outputs": [],
   "source": [
    "np.save(path +'/new_fall2.npy', fall_total)\n",
    "np.save(path +'/new_cough2.npy', cough_total)\n",
    "np.save(path +'/new_shout2.npy', shout_total)\n",
    "np.save(path +'/new_speech2.npy', speech_total)"
   ]
  },
  {
   "cell_type": "code",
   "execution_count": 26,
   "metadata": {},
   "outputs": [],
   "source": [
    "new_train = []\n",
    "new_test = []"
   ]
  },
  {
   "cell_type": "code",
   "execution_count": 27,
   "metadata": {},
   "outputs": [],
   "source": [
    "new_train.extend(fall_total[0:640])\n",
    "new_train.extend(cough_total[0:970])\n",
    "new_train.extend(shout_total[0:1627])\n",
    "new_train.extend(speech_total[0:3500])"
   ]
  },
  {
   "cell_type": "code",
   "execution_count": 28,
   "metadata": {},
   "outputs": [],
   "source": [
    "new_test.extend(fall_total[640:])    # 640 to 800\n",
    "new_test.extend(cough_total[970:])   # 970 to 1211\n",
    "new_test.extend(shout_total[1627:])  # 1627 to 2033\n",
    "new_test.extend(speech_total[3500:]) # 3500 to 4373"
   ]
  },
  {
   "cell_type": "code",
   "execution_count": 29,
   "metadata": {},
   "outputs": [],
   "source": [
    "np.save(path +'/new_train2.npy', new_train)\n",
    "np.save(path +'/new_test2.npy', new_test)"
   ]
  },
  {
   "cell_type": "code",
   "execution_count": 30,
   "metadata": {},
   "outputs": [],
   "source": [
    "new_train_label = []"
   ]
  },
  {
   "cell_type": "code",
   "execution_count": 31,
   "metadata": {},
   "outputs": [],
   "source": [
    "for i in range(640):\n",
    "    new_train_label.append(0) # fall\n",
    "for i in range(970): \n",
    "    new_train_label.append(1) # cough \n",
    "for i in range(1627):\n",
    "    new_train_label.append(2) # shout\n",
    "for i in range(3500): \n",
    "    new_train_label.append(3) # speech"
   ]
  },
  {
   "cell_type": "code",
   "execution_count": 32,
   "metadata": {},
   "outputs": [],
   "source": [
    "new_test_label = []"
   ]
  },
  {
   "cell_type": "code",
   "execution_count": 33,
   "metadata": {},
   "outputs": [],
   "source": [
    "for i in range(161): \n",
    "    new_test_label.append(0) # fall\n",
    "for i in range(242): \n",
    "    new_test_label.append(1) # cough\n",
    "for i in range(407):\n",
    "    new_test_label.append(2) # shout\n",
    "for i in range(874): \n",
    "    new_test_label.append(3) # speech"
   ]
  },
  {
   "cell_type": "code",
   "execution_count": 34,
   "metadata": {},
   "outputs": [],
   "source": [
    "np.save(path +'/new_train_label2.npy', new_train_label)"
   ]
  },
  {
   "cell_type": "code",
   "execution_count": 35,
   "metadata": {},
   "outputs": [],
   "source": [
    "np.save(path +'/new_test_label2.npy', new_test_label)"
   ]
  },
  {
   "cell_type": "markdown",
   "metadata": {},
   "source": [
    "# New labels (for sigmoid activation model, the prediction for 4 classes are independent of one another)"
   ]
  },
  {
   "cell_type": "code",
   "execution_count": 8,
   "metadata": {},
   "outputs": [],
   "source": [
    "import numpy as np"
   ]
  },
  {
   "cell_type": "code",
   "execution_count": 9,
   "metadata": {},
   "outputs": [],
   "source": [
    "new_train_label = []\n",
    "\n",
    "for i in range(640):\n",
    "    new_train_label.append([1,0,0,0]) # fall\n",
    "for i in range(970): \n",
    "    new_train_label.append([0,1,0,0]) # cough\n",
    "for i in range(1627):\n",
    "    new_train_label.append([0,0,1,0]) # shout\n",
    "for i in range(3500): \n",
    "    new_train_label.append([0,0,0,1]) # speech"
   ]
  },
  {
   "cell_type": "code",
   "execution_count": 10,
   "metadata": {},
   "outputs": [],
   "source": [
    "new_test_label = []\n",
    "\n",
    "for i in range(161): \n",
    "    new_test_label.append([1,0,0,0]) # fall\n",
    "for i in range(242): \n",
    "    new_test_label.append([0,1,0,0]) # cough\n",
    "for i in range(407):\n",
    "    new_test_label.append([0,0,1,0]) # shout\n",
    "for i in range(874): \n",
    "    new_test_label.append([0,0,0,1]) # speech"
   ]
  },
  {
   "cell_type": "code",
   "execution_count": 11,
   "metadata": {},
   "outputs": [],
   "source": [
    "path = \"C:/Users/Alicia/Desktop/new train data\""
   ]
  },
  {
   "cell_type": "code",
   "execution_count": 12,
   "metadata": {},
   "outputs": [],
   "source": [
    "np.save(path +'/new_train_label2sigmoid.npy', new_train_label)\n",
    "np.save(path +'/new_test_label2sigmoid.npy', new_test_label)"
   ]
  },
  {
   "cell_type": "code",
   "execution_count": null,
   "metadata": {},
   "outputs": [],
   "source": []
  },
  {
   "cell_type": "markdown",
   "metadata": {},
   "source": [
    "# Load and check train and test dataset"
   ]
  },
  {
   "cell_type": "code",
   "execution_count": 36,
   "metadata": {},
   "outputs": [],
   "source": [
    "os.chdir(\"C:/Users/Alicia/Desktop/new train data\")\n",
    "\n",
    "train_data = np.load('new_train2.npy', allow_pickle=True)\n",
    "test_data = np.load('new_test2.npy', allow_pickle=True)"
   ]
  },
  {
   "cell_type": "code",
   "execution_count": 37,
   "metadata": {},
   "outputs": [],
   "source": [
    "train_label = np.load('new_train_label2.npy', allow_pickle=True)\n",
    "test_label = np.load('new_test_label2.npy', allow_pickle=True)"
   ]
  },
  {
   "cell_type": "code",
   "execution_count": 38,
   "metadata": {},
   "outputs": [
    {
     "name": "stdout",
     "output_type": "stream",
     "text": [
      "(6737,)\n",
      "(1684,)\n"
     ]
    }
   ],
   "source": [
    "print(train_label.shape)\n",
    "print(test_label.shape)"
   ]
  },
  {
   "cell_type": "code",
   "execution_count": 39,
   "metadata": {},
   "outputs": [
    {
     "name": "stdout",
     "output_type": "stream",
     "text": [
      "(6737, 128, 173)\n",
      "(1684, 128, 173)\n"
     ]
    }
   ],
   "source": [
    "print(train_data.shape)\n",
    "print(test_data.shape)"
   ]
  },
  {
   "cell_type": "code",
   "execution_count": 5,
   "metadata": {},
   "outputs": [],
   "source": [
    "import os"
   ]
  },
  {
   "cell_type": "markdown",
   "metadata": {},
   "source": [
    "# Check labels of dataset for sigmoid model training\n"
   ]
  },
  {
   "cell_type": "code",
   "execution_count": 13,
   "metadata": {},
   "outputs": [],
   "source": [
    "os.chdir(\"C:/Users/Alicia/Desktop/new train data\")\n",
    "\n",
    "train_label = np.load('new_train_label2sigmoid.npy', allow_pickle=True)\n",
    "test_label = np.load('new_test_label2sigmoid.npy', allow_pickle=True)"
   ]
  },
  {
   "cell_type": "code",
   "execution_count": 14,
   "metadata": {},
   "outputs": [
    {
     "name": "stdout",
     "output_type": "stream",
     "text": [
      "(6737, 4)\n",
      "(1684, 4)\n"
     ]
    }
   ],
   "source": [
    "print(train_label.shape)\n",
    "print(test_label.shape)"
   ]
  },
  {
   "cell_type": "markdown",
   "metadata": {},
   "source": [
    "# Convert to input shape for MobileNet model, i.e. 224,224,3 \n",
    "##### a. pad data with mean\n",
    "##### b. duplicate to 3 channels"
   ]
  },
  {
   "cell_type": "code",
   "execution_count": null,
   "metadata": {},
   "outputs": [],
   "source": [
    "start_index_x = (224-128)//2\n",
    "# start_index_x = 48\n",
    "end_index_x = (224-128)//2 + 128\n",
    "# end_index_x = 176\n",
    "start_index_y = (224-173)//2\n",
    "# start_index_y = 25\n",
    "end_index_y = (224-173)//2 + 173\n",
    "# end_index_y = 198\n",
    "# print(start_index_x, end_index_x, start_index_y, end_index_y)\n",
    "\n",
    "new_train_data = np.empty(shape=(6737,224,224,3)) ##### CHANGE HERE ##### \n",
    "\n",
    "for i in range(6737): ##### CHANGE HERE ##### \n",
    "    mean = np.mean(train_data[i]) # shape is alr (128,173)\n",
    "    # data_squeeze = np.squeeze(train_all[i])# (128,173,1) to (128,173) \n",
    "    spectrogram = mean*np.ones(shape = (224,224,3))\n",
    "    for j in range(3):\n",
    "        spectrogram[start_index_x:end_index_x, start_index_y:end_index_y,j] = train_data[i]\n",
    "\n",
    "    new_train_data[i] = spectrogram"
   ]
  },
  {
   "cell_type": "code",
   "execution_count": 42,
   "metadata": {},
   "outputs": [],
   "source": [
    "np.save('C:/Users/Alicia/Desktop/new train data/train_data_converted2.npy', new_train_data)"
   ]
  },
  {
   "cell_type": "code",
   "execution_count": 43,
   "metadata": {},
   "outputs": [],
   "source": [
    "start_index_x = (224-128)//2\n",
    "# start_index_x = 48\n",
    "end_index_x = (224-128)//2 + 128\n",
    "# end_index_x = 176\n",
    "start_index_y = (224-173)//2\n",
    "# start_index_y = 25\n",
    "end_index_y = (224-173)//2 + 173\n",
    "# end_index_y = 198\n",
    "# print(start_index_x, end_index_x, start_index_y, end_index_y)\n",
    "\n",
    "new_test_data = np.empty(shape=(1684,224,224,3)) ##### CHANGE HERE ##### not 1127\n",
    "\n",
    "for i in range(1684): ##### CHANGE HERE ##### not 1127\n",
    "    mean = np.mean(test_data[i]) # shape is alr (128,173)\n",
    "    # data_squeeze = np.squeeze(train_all[i])# (128,173,1) to (128,173) \n",
    "    spectrogram = mean*np.ones(shape = (224,224,3))\n",
    "    for j in range(3):\n",
    "        spectrogram[start_index_x:end_index_x, start_index_y:end_index_y,j] = test_data[i]\n",
    "\n",
    "    new_test_data[i] = spectrogram"
   ]
  },
  {
   "cell_type": "code",
   "execution_count": 44,
   "metadata": {},
   "outputs": [],
   "source": [
    "np.save('C:/Users/Alicia/Desktop/new train data/test_data_converted2.npy', new_test_data)"
   ]
  },
  {
   "cell_type": "markdown",
   "metadata": {},
   "source": [
    "# Labels have dimension N, 1"
   ]
  },
  {
   "cell_type": "code",
   "execution_count": 45,
   "metadata": {},
   "outputs": [],
   "source": [
    "train_label_converted = np.expand_dims(train_label, axis=1)\n",
    "test_label_converted = np.expand_dims(test_label, axis=1)"
   ]
  },
  {
   "cell_type": "code",
   "execution_count": 46,
   "metadata": {},
   "outputs": [
    {
     "name": "stdout",
     "output_type": "stream",
     "text": [
      "(6737, 1)\n",
      "(1684, 1)\n"
     ]
    }
   ],
   "source": [
    "print(train_label_converted.shape)\n",
    "print(test_label_converted.shape)"
   ]
  },
  {
   "cell_type": "code",
   "execution_count": 47,
   "metadata": {},
   "outputs": [],
   "source": [
    "np.save('C:/Users/Alicia/Desktop/new train data/train_label_converted2.npy', train_label_converted)\n",
    "np.save('C:/Users/Alicia/Desktop/new train data/test_label_converted2.npy', test_label_converted)"
   ]
  },
  {
   "cell_type": "markdown",
   "metadata": {},
   "source": [
    "# Check shape of final prepared datasets\n",
    "Ready for model training"
   ]
  },
  {
   "cell_type": "code",
   "execution_count": 48,
   "metadata": {},
   "outputs": [],
   "source": [
    "os.chdir(\"C:/Users/Alicia/Desktop/new train data\")\n",
    "\n",
    "train_converted = np.load('train_data_converted2.npy', allow_pickle=True)\n",
    "test_converted = np.load('test_data_converted2.npy', allow_pickle=True)\n",
    "train_label_converted = np.load('train_label_converted2.npy', allow_pickle=True)\n",
    "test_label_converted = np.load('test_label_converted2.npy', allow_pickle=True)"
   ]
  },
  {
   "cell_type": "code",
   "execution_count": 49,
   "metadata": {},
   "outputs": [
    {
     "name": "stdout",
     "output_type": "stream",
     "text": [
      "(6737, 224, 224, 3)\n",
      "(1684, 224, 224, 3)\n",
      "(6737, 1)\n",
      "(1684, 1)\n"
     ]
    }
   ],
   "source": [
    "print(train_converted.shape)\n",
    "print(test_converted.shape)\n",
    "print(train_label_converted.shape)\n",
    "print(test_label_converted.shape)"
   ]
  },
  {
   "cell_type": "code",
   "execution_count": null,
   "metadata": {},
   "outputs": [],
   "source": []
  }
 ],
 "metadata": {
  "kernelspec": {
   "display_name": "Python 3",
   "language": "python",
   "name": "python3"
  },
  "language_info": {
   "codemirror_mode": {
    "name": "ipython",
    "version": 3
   },
   "file_extension": ".py",
   "mimetype": "text/x-python",
   "name": "python",
   "nbconvert_exporter": "python",
   "pygments_lexer": "ipython3",
   "version": "3.7.6"
  }
 },
 "nbformat": 4,
 "nbformat_minor": 4
}
